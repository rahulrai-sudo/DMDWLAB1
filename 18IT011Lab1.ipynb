{
  "nbformat": 4,
  "nbformat_minor": 0,
  "metadata": {
    "colab": {
      "name": "18IT011Lab1.ipynb",
      "provenance": [],
      "authorship_tag": "ABX9TyMHGOM13WycYwILkh/47jCq",
      "include_colab_link": true
    },
    "kernelspec": {
      "name": "python3",
      "display_name": "Python 3"
    }
  },
  "cells": [
    {
      "cell_type": "markdown",
      "metadata": {
        "id": "view-in-github",
        "colab_type": "text"
      },
      "source": [
        "<a href=\"https://colab.research.google.com/github/rahulrai-sudo/DMDWLAB1/blob/main/18IT011Lab1.ipynb\" target=\"_parent\"><img src=\"https://colab.research.google.com/assets/colab-badge.svg\" alt=\"Open In Colab\"/></a>"
      ]
    },
    {
      "cell_type": "code",
      "metadata": {
        "colab": {
          "base_uri": "https://localhost:8080/"
        },
        "id": "FWqXDNygLFWG",
        "outputId": "112c9a06-810c-43d8-cb6f-99e06cd75286"
      },
      "source": [
        "#python program for mean, median, and mode.\n",
        "\n",
        "from collections import Counter\n",
        "data=[float(i) for i in input().split()]\n",
        "n=len(data)\n",
        "mean=sum(data)/n\n",
        "print(\"Mean = \",mean)\n",
        "#calculation of median\n",
        "temp=data.copy()\n",
        "temp=sorted(temp)\n",
        "if n%2!=0:\n",
        "  print(\"Median = \",temp[n//2])\n",
        "else:\n",
        "  median=(temp[n//2]+temp[n//2+1])/2  \n",
        "  print(\"Median = \",median)\n",
        "#calculation of mode\n",
        "  cnt=Counter(data)\n",
        "  maxi=max(cnt.items(),key= lambda x:x[1])[1]\n",
        "  print(maxi)\n",
        "  mode=[]\n",
        "  for each in cnt.items():\n",
        "    if each[1]==maxi:\n",
        "      mode.append(each[0])\n",
        "      print(\"each[0] = \",each[0])\n",
        "    if len(mode)==n:\n",
        "      print(\"Not found\")\n",
        "    else:\n",
        "      print(\"Mode = \",mode)"
      ],
      "execution_count": 3,
      "outputs": [
        {
          "output_type": "stream",
          "text": [
            "25 25 87 65 27\n",
            "Mean =  45.8\n",
            "Median =  27.0\n"
          ],
          "name": "stdout"
        }
      ]
    },
    {
      "cell_type": "code",
      "metadata": {
        "colab": {
          "base_uri": "https://localhost:8080/"
        },
        "id": "VsyvygeqLRCf",
        "outputId": "4e5931a4-9e12-4a46-a82f-c59b04ba0baf"
      },
      "source": [
        "# python program for standard deviation and variance.\n",
        "data=[float(i) for i in input().split()]\n",
        "n=len(data)\n",
        "mean=sum(data)/n\n",
        "sum1=0\n",
        "for e in data:\n",
        "  sum1+=(e-mean)**2\n",
        "variance=sum1/n\n",
        "print('Variance = ',variance)\n",
        "\n",
        "std=variance**(0.5)\n",
        "print(\"Standard Deviation = \",std)"
      ],
      "execution_count": 2,
      "outputs": [
        {
          "output_type": "stream",
          "text": [
            "23 25 24\n",
            "Variance =  0.6666666666666666\n",
            "Standard Deviation =  0.816496580927726\n"
          ],
          "name": "stdout"
        }
      ]
    },
    {
      "cell_type": "code",
      "metadata": {
        "colab": {
          "base_uri": "https://localhost:8080/"
        },
        "id": "9HgfwKTMLZHt",
        "outputId": "762b3272-962d-4906-be13-680cd8a4e1c7"
      },
      "source": [
        "\n",
        "#python programs.\n",
        "# 1.python program to check even or odd.\n",
        "num = int(input(\"Enter a number: \"))\n",
        "if (num % 2) == 0:\n",
        "   print(\"{0} is Even\".format(num))\n",
        "else:\n",
        "   print(\"{0} is Odd\".format(num))"
      ],
      "execution_count": 4,
      "outputs": [
        {
          "output_type": "stream",
          "text": [
            "Enter a number: 5\n",
            "5 is Odd\n"
          ],
          "name": "stdout"
        }
      ]
    },
    {
      "cell_type": "code",
      "metadata": {
        "colab": {
          "base_uri": "https://localhost:8080/"
        },
        "id": "BAgO7MCILz-W",
        "outputId": "3c3b0d17-f27e-4253-972a-4fabf24c327b"
      },
      "source": [
        "# 2. Greatest among three numbers.\n",
        "num1 = int(input(\"Enter ist number: \"))\n",
        "num2 = int(input(\"Enter 2nd number: \"))\n",
        "num3 = int(input(\"Enter 3rd number: \"))\n",
        "\n",
        "if (num1 >= num2) and (num1 >= num3):\n",
        "   largest = num1\n",
        "elif (num2 >= num1) and (num2 >= num3):\n",
        "   largest = num2\n",
        "else:\n",
        "   largest = num3\n",
        "\n",
        "print(\"The largest number is\", largest)"
      ],
      "execution_count": 5,
      "outputs": [
        {
          "output_type": "stream",
          "text": [
            "Enter ist number: 5\n",
            "Enter 2nd number: 85\n",
            "Enter 3rd number: 54\n",
            "The largest number is 85\n"
          ],
          "name": "stdout"
        }
      ]
    },
    {
      "cell_type": "code",
      "metadata": {
        "id": "SjGBuS0sL34h"
      },
      "source": [
        ""
      ],
      "execution_count": null,
      "outputs": []
    }
  ]
}